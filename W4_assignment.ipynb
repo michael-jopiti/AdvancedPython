{
 "cells": [
  {
   "cell_type": "markdown",
   "metadata": {},
   "source": [
    "<h2><center>Week 4 - Assignment</center></h2>\n",
    "<h3><center>Programming for Data Science 2024</center></h3>"
   ]
  },
  {
   "cell_type": "markdown",
   "metadata": {},
   "source": [
    "Exercises for the topics covered in the fourth lecture.\n",
    "\n",
    "The exercise will be marked as passed if you get **at least 10/15** points.\n",
    "\n",
    "Exercises must be handed in via **ILIAS** (Homework assignments). Deliver your submission as a compressed file (zip) containing one .py or .ipynb file with all exercises. The name of both the .zip and the .py/.ipynb file **must** be *SurnameName* of the two members of the group. Example: Riccardo Cusinato + Athina Tzovara = *CusinatoRiccardo_TzovaraAthina.zip* .\n",
    "\n",
    "It's important to use comments to explain your code and show that you're able to take ownership of the exercises and discuss them.\n",
    "\n",
    "You are not expected to collaborate outside of the group on exercises and submitting other groups’ code as your own will result in 0 points.\n",
    "\n",
    "For questions contact: *riccardo.cusinato@unibe.ch* with the subject: *Programming for Data Science 2024*.\n",
    "\n",
    "**Deadline: 14:00, March 21, 2024.**"
   ]
  },
  {
   "cell_type": "markdown",
   "metadata": {},
   "source": [
    "<h3 style=\"text-align:left;\">Exercise 1 - Create Dataframes<span style=\"float: right\">5 points</span></h3>"
   ]
  },
  {
   "cell_type": "markdown",
   "metadata": {},
   "source": [
    "Create a DataFrame *episodes_df* with the columns **ses**, **ep**, and **title**, as below:\n",
    "\n",
    "|**ses**|**ep**|**title**|\n",
    "|:---|:---|:---|\n",
    "|1|1|One|\n",
    "|1|2|Two|\n",
    "|2|1|Three|\n",
    "|2|2|Four|\n",
    "\n",
    "Create a DataFrame *imdb_df* with the columns **ses**, **ep**, and **score**, as below:\n",
    "\n",
    "|**ses**|**ep**|**score**|\n",
    "|:---|:---|:---|\n",
    "|1|1|8.4|\n",
    "|1|2|8.1|\n",
    "|2|1|7.9|\n",
    "|2|2|7.7|\n",
    "\n",
    "Merge the two DataFrames. Then, find and print the title of the episode with the higest score.\n",
    "\n",
    "**NB**: To merge the two dataframes you have to use the *merge* method:\n",
    "```python\n",
    "merged_df = episodes_df.merge(imdb_df, on=['ses', 'ep'])\n",
    "```\n",
    "\n",
    "\n",
    "1. By manipulating the dataframes, find and print the title of the episode with the higest score. (*3 points*)"
   ]
  },
  {
   "cell_type": "code",
   "execution_count": 14,
   "metadata": {},
   "outputs": [],
   "source": [
    "import pandas as pd\n",
    "import numpy as np"
   ]
  },
  {
   "cell_type": "code",
   "execution_count": 56,
   "metadata": {},
   "outputs": [
    {
     "name": "stdout",
     "output_type": "stream",
     "text": [
      "One\n"
     ]
    }
   ],
   "source": [
    "episodes_df = pd.DataFrame({'ses': [1,1,2,2], 'ep': [1,2,1,2], 'title': [\"One\", \"Two\", \"Three\", \"Four\"]}, index=None)\n",
    "imdb_df = pd.DataFrame({'ses': [1,1,2,2], 'ep': [1,2,1,2], 'score': [8.4, 8.1, 7.9, 7.7]}, index=None)\n",
    "\n",
    "merged_df = episodes_df.merge(imdb_df, on=['ses', 'ep'])\n",
    "\n",
    "best_score = merged_df.loc[merged_df[\"score\"].idxmax()]\n",
    "print(best_score[\"title\"])"
   ]
  },
  {
   "cell_type": "markdown",
   "metadata": {},
   "source": [
    "2. Change the **score** of the entry with the title \"Three\" in the DataFrame you created in Task 1 and print the result. The new score should be 6. (*2 points*)"
   ]
  },
  {
   "cell_type": "code",
   "execution_count": 74,
   "metadata": {},
   "outputs": [
    {
     "name": "stdout",
     "output_type": "stream",
     "text": [
      "   ses  ep  title  score\n",
      "0    1   1    One    8.4\n",
      "1    1   2    Two    8.1\n",
      "2    2   1  Three    6.0\n",
      "3    2   2   Four    7.7\n"
     ]
    }
   ],
   "source": [
    "merged_df.loc[merged_df['title'] == 'Three', 'score'] = 6\n",
    "print(merged_df)"
   ]
  },
  {
   "cell_type": "markdown",
   "metadata": {},
   "source": [
    "<h3 style=\"text-align:left;\">Exercise 2 - Load DataFrames<span style=\"float: right\">6 points</span></h3>"
   ]
  },
  {
   "cell_type": "markdown",
   "metadata": {},
   "source": [
    "1. Load the two CSV files 'silicon_valley_episodes.csv' and 'silicon_valley_imdb.csv', found in the \"data\" directory, as DataFrames. Merge the two DataFrames as in the first task, using **season** and **episode_num** as keys to merge on. (*2 points*)\n",
    "```python\n",
    "episodes_df = pd.read_csv('./data/silicon_valley_episodes.csv')\n",
    "imdb_df = pd.read_csv('./data/silicon_valley_imdb.csv')\n",
    "```"
   ]
  },
  {
   "cell_type": "code",
   "execution_count": 77,
   "metadata": {},
   "outputs": [
    {
     "name": "stdout",
     "output_type": "stream",
     "text": [
      "    season  episode_num  episode_num_overall  \\\n",
      "0        1            1                    1   \n",
      "1        1            2                    2   \n",
      "2        1            3                    3   \n",
      "3        1            4                    4   \n",
      "4        1            5                    5   \n",
      "5        1            6                    6   \n",
      "6        1            7                    7   \n",
      "7        1            8                    8   \n",
      "8        2            1                    9   \n",
      "9        2            2                   10   \n",
      "10       2            3                   11   \n",
      "11       2            4                   12   \n",
      "12       2            5                   13   \n",
      "13       2            6                   14   \n",
      "14       2            7                   15   \n",
      "15       2            8                   16   \n",
      "16       2            9                   17   \n",
      "17       2           10                   18   \n",
      "18       3            1                   19   \n",
      "19       3            2                   20   \n",
      "20       3            3                   21   \n",
      "21       3            4                   22   \n",
      "22       3            5                   23   \n",
      "23       3            6                   24   \n",
      "24       3            7                   25   \n",
      "25       3            8                   26   \n",
      "26       3            9                   27   \n",
      "27       3           10                   28   \n",
      "28       4            1                   29   \n",
      "29       4            2                   30   \n",
      "30       4            3                   31   \n",
      "31       4            4                   32   \n",
      "32       4            5                   33   \n",
      "33       4            6                   34   \n",
      "34       4            7                   35   \n",
      "35       4            8                   36   \n",
      "36       4            9                   37   \n",
      "37       4           10                   38   \n",
      "38       5            1                   39   \n",
      "39       5            2                   40   \n",
      "40       5            3                   41   \n",
      "41       5            4                   42   \n",
      "42       5            5                   43   \n",
      "43       5            6                   44   \n",
      "44       5            7                   45   \n",
      "45       5            8                   46   \n",
      "46       6            1                   47   \n",
      "47       6            2                   48   \n",
      "48       6            3                   49   \n",
      "49       6            4                   50   \n",
      "50       6            5                   51   \n",
      "51       6            6                   52   \n",
      "52       6            7                   53   \n",
      "\n",
      "                              title_x          directed_by  \\\n",
      "0              Minimum Viable Product           Mike Judge   \n",
      "1                       The Cap Table           Mike Judge   \n",
      "2           Articles of Incorporation         Tricia Brock   \n",
      "3                    Fiduciary Duties         Maggie Carey   \n",
      "4                      Signaling Risk            Alec Berg   \n",
      "5              Third Party Insourcing            Alec Berg   \n",
      "6                    Proof of Concept           Mike Judge   \n",
      "7       Optimal Tip-To-Tip Efficiency           Mike Judge   \n",
      "8                   Sand Hill Shuffle           Mike Judge   \n",
      "9                 Runaway Devaluation           Mike Judge   \n",
      "10                          Bad Money            Alec Berg   \n",
      "11                           The Lady            Alec Berg   \n",
      "12                       Server Space           Mike Judge   \n",
      "13                           Homicide           Mike Judge   \n",
      "14                      Adult Content            Alec Berg   \n",
      "15                White Hat/Black Hat            Alec Berg   \n",
      "16                Binding Arbitration           Mike Judge   \n",
      "17             Two Days of the Condor            Alec Berg   \n",
      "18                   Founder Friendly           Mike Judge   \n",
      "19                     Two in the Box           Mike Judge   \n",
      "20          Meinertzhagen's Haversack     Charlie McDowell   \n",
      "21     Maleant Data Systems Solutions     Charlie McDowell   \n",
      "22                    The Empty Chair           Eric Appel   \n",
      "23                Bachmanity Insanity           Eric Appel   \n",
      "24             To Build a Better Beta         Jamie Babbit   \n",
      "25       Bachman's Earnings Over-Ride         Jamie Babbit   \n",
      "26                 Daily Active Users            Alec Berg   \n",
      "27                         The Uptick            Alec Berg   \n",
      "28                    Success Failure           Mike Judge   \n",
      "29                   Terms of Service           Mike Judge   \n",
      "30              Intellectual Property         Jamie Babbit   \n",
      "31              Teambuilding Exercise         Jamie Babbit   \n",
      "32                      The Blood Boy            Tim Roche   \n",
      "33                   Customer Service          Clay Tarver   \n",
      "34                   The Patent Troll         Jamie Babbit   \n",
      "35                  The Keenan Vortex         Jamie Babbit   \n",
      "36                          Hooli-Con           Mike Judge   \n",
      "37                       Server Error           Mike Judge   \n",
      "38              Grow Fast or Die Slow           Mike Judge   \n",
      "39                      Reorientation           Mike Judge   \n",
      "40            Chief Operating Officer         Jamie Babbit   \n",
      "41                    Tech Evangelist         Jamie Babbit   \n",
      "42                 Facial Recognition  Gillian Robespierre   \n",
      "43  Artificial Emotional Intelligence            Matt Ross   \n",
      "44              Initial Coin Offering           Mike Judge   \n",
      "45                  Fifty-One Percent            Alec Berg   \n",
      "46    Artificial Lack of Intelligence           Mike Judge   \n",
      "47                        Blood Money           Mike Judge   \n",
      "48                      Hooli Smokes!         Liza Johnson   \n",
      "49               Maximizing Alphaness         Liza Johnson   \n",
      "50                            Tethics         Pete Chatmon   \n",
      "51                           RussFest            Matt Ross   \n",
      "52                         Exit Event            Alec Berg   \n",
      "\n",
      "                                     written_by original_air_date_x  \\\n",
      "0   Mike Judge & John Altschuler & Dave Krinsky            06.04.14   \n",
      "1                                   Carson Mell            13.04.14   \n",
      "2               Matteo Borghese & Rob Turbovsky            20.04.14   \n",
      "3                                    Ron Weiner            27.04.14   \n",
      "4                                   Jessica Gao            04.05.14   \n",
      "5                                   Dan O'Keefe            11.05.14   \n",
      "6                                   Clay Tarver            18.05.14   \n",
      "7                                     Alec Berg            01.06.14   \n",
      "8                                   Clay Tarver            12.04.15   \n",
      "9                                    Ron Weiner            19.04.15   \n",
      "10                                    Alec Berg            26.04.15   \n",
      "11                                  Carson Mell            03.05.15   \n",
      "12                                    Sonny Lee            10.05.15   \n",
      "13                                Carrie Kemper            17.05.15   \n",
      "14                                   Amy Aniobi            24.05.15   \n",
      "15                                 Daniel Lyons            31.05.15   \n",
      "16                                  Dan O'Keefe            07.06.15   \n",
      "17                                    Alec Berg            14.06.15   \n",
      "18                                  Dan O'Keefe            24.04.16   \n",
      "19                                   Ron Weiner            01.05.16   \n",
      "20                                 Adam Countee            08.05.16   \n",
      "21                                  Donick Cary            15.05.16   \n",
      "22                                  Megan Amram            22.05.16   \n",
      "23                                  Carson Mell            29.05.16   \n",
      "24                              John Levenstein            05.06.16   \n",
      "25                                Carrie Kemper            12.06.16   \n",
      "26                                  Clay Tarver            19.06.16   \n",
      "27                                    Alec Berg            26.06.16   \n",
      "28                                    Alec Berg            23.04.17   \n",
      "29                                  Clay Tarver            30.04.17   \n",
      "30                                Carrie Kemper            07.05.17   \n",
      "31                              Meghan Pleticha            14.05.17   \n",
      "32                                 Adam Countee            21.05.17   \n",
      "33                   Graham Wagner & Shawn Boxe            28.05.17   \n",
      "34                                   Andrew Law            04.06.17   \n",
      "35                 Graham Wagner & Rachele Lynn            11.06.17   \n",
      "36                             Chris Provenzano            18.06.17   \n",
      "37                                  Dan O'Keefe            25.06.17   \n",
      "38                                   Ron Weiner            25.03.18   \n",
      "39                                  Carson Mell            01.04.18   \n",
      "40                                Carrie Kemper            08.04.18   \n",
      "41                                    Josh Lieb            15.04.18   \n",
      "42                                Graham Wagner            22.04.18   \n",
      "43                                 Anthony King            29.04.18   \n",
      "44                                  Clay Tarver            06.05.18   \n",
      "45                                    Alec Berg            13.05.18   \n",
      "46                                   Ron Weiner            27.10.19   \n",
      "47                                  Carson Mell            03.11.19   \n",
      "48                                 Sarah Walker            10.11.19   \n",
      "49                                Daisy Gardner            17.11.19   \n",
      "50                                   Lew Morton            24.11.19   \n",
      "51                                Carrie Kemper            01.12.19   \n",
      "52                                    Alec Berg            08.12.19   \n",
      "\n",
      "    us_viewers                            title_y original_air_date_y  \\\n",
      "0      1980000             Minimum Viable Product         6 Apr. 2014   \n",
      "1      1690000                      The Cap Table        13 Apr. 2014   \n",
      "2      1620000          Articles of Incorporation        20 Apr. 2014   \n",
      "3      1550000                   Fiduciary Duties        27 Apr. 2014   \n",
      "4      1820000                     Signaling Risk          4 May 2014   \n",
      "5      1690000             Third Party Insourcing         11 May 2014   \n",
      "6      1680000                   Proof of Concept         18 May 2014   \n",
      "7      1740000      Optimal Tip-To-Tip Efficiency         1 Jun. 2014   \n",
      "8      2130000                  Sand Hill Shuffle        12 Apr. 2015   \n",
      "9      1730000                Runaway Devaluation        19 Apr. 2015   \n",
      "10     1940000                          Bad Money        26 Apr. 2015   \n",
      "11     1750000                           The Lady          3 May 2015   \n",
      "12     1530000                       Server Space         10 May 2015   \n",
      "13     1540000                           Homicide         17 May 2015   \n",
      "14     1600000                      Adult Content         24 May 2015   \n",
      "15     1780000                White Hat/Black Hat         31 May 2015   \n",
      "16     1870000                Binding Arbitration         7 Jun. 2015   \n",
      "17     2110000             Two Days of the Condor        14 Jun. 2015   \n",
      "18     1860000                   Founder Friendly        24 Apr. 2016   \n",
      "19     1720000                     Two in the Box          1 May 2016   \n",
      "20     1690000          Meinertzhagen's Haversack          8 May 2016   \n",
      "21     1890000     Maleant Data Systems Solutions         15 May 2016   \n",
      "22     1710000                    The Empty Chair         22 May 2016   \n",
      "23     1620000                Bachmanity Insanity         29 May 2016   \n",
      "24     1700000             To Build a Better Beta         5 Jun. 2016   \n",
      "25     1640000       Bachman's Earnings Over-Ride        12 Jun. 2016   \n",
      "26     1630000                 Daily Active Users        19 Jun. 2016   \n",
      "27     2040000                         The Uptick        26 Jun. 2016   \n",
      "28      867000                    Success Failure        23 Apr. 2017   \n",
      "29      762000                   Terms of Service        30 Apr. 2017   \n",
      "30      774000              Intellectual Property          7 May 2017   \n",
      "31      859000              Teambuilding Exercise         14 May 2017   \n",
      "32      844000                      The Blood Boy         21 May 2017   \n",
      "33      728000                   Customer Service         28 May 2017   \n",
      "34      862000                   The Patent Troll         4 Jun. 2017   \n",
      "35      798000                  The Keenan Vortex        11 Jun. 2017   \n",
      "36      840000                          Hooli-Con        18 Jun. 2017   \n",
      "37      790000                       Server Error        25 Jun. 2017   \n",
      "38      698000              Grow Fast or Die Slow        25 Mar. 2018   \n",
      "39      592000                      Reorientation         1 Apr. 2018   \n",
      "40      624000            Chief Operating Officer         8 Apr. 2018   \n",
      "41      610000                    Tech Evangelist        15 Apr. 2018   \n",
      "42      858000                 Facial Recognition        22 Apr. 2018   \n",
      "43     1020000  Artificial Emotional Intelligence        29 Apr. 2018   \n",
      "44      853000              Initial Coin Offering          6 May 2018   \n",
      "45      707000                  Fifty-One Percent         13 May 2018   \n",
      "46      448000    Artificial Lack of Intelligence        27 Oct. 2019   \n",
      "47      383000                        Blood Money         3 Nov. 2019   \n",
      "48      459000                      Hooli Smokes!        10 Nov. 2019   \n",
      "49      452000               Maximizing Alphaness        17 Nov. 2019   \n",
      "50      311000                            Tethics        24 Nov. 2019   \n",
      "51      414000                           RussFest         1 Dec. 2019   \n",
      "52      454000                         Exit Event         8 Dec. 2019   \n",
      "\n",
      "    imdb_rating  total_votes  \\\n",
      "0           7.7         2685   \n",
      "1           7.8         2163   \n",
      "2           8.0         2083   \n",
      "3           7.7         1931   \n",
      "4           8.3         1980   \n",
      "5           8.4         1998   \n",
      "6           8.5         1994   \n",
      "7           9.3         3627   \n",
      "8           8.2         1882   \n",
      "9           7.9         1613   \n",
      "10          8.0         1609   \n",
      "11          7.8         1575   \n",
      "12          8.0         1561   \n",
      "13          8.7         1823   \n",
      "14          8.4         1583   \n",
      "15          8.2         1629   \n",
      "16          8.7         1684   \n",
      "17          9.2         2320   \n",
      "18          8.1         1640   \n",
      "19          8.0         1462   \n",
      "20          8.6         1620   \n",
      "21          8.6         1501   \n",
      "22          7.9         1387   \n",
      "23          8.1         1414   \n",
      "24          8.3         1362   \n",
      "25          8.4         1348   \n",
      "26          8.2         1383   \n",
      "27          8.6         1509   \n",
      "28          8.1         1548   \n",
      "29          8.5         1503   \n",
      "30          8.5         1414   \n",
      "31          8.1         1298   \n",
      "32          8.0         1291   \n",
      "33          7.9         1266   \n",
      "34          7.9         1236   \n",
      "35          8.0         1227   \n",
      "36          8.4         1288   \n",
      "37          8.4         1416   \n",
      "38          7.9         1466   \n",
      "39          7.7         1362   \n",
      "40          8.2         1344   \n",
      "41          7.6         1277   \n",
      "42          8.0         1293   \n",
      "43          7.7         1207   \n",
      "44          7.9         1188   \n",
      "45          9.1         2128   \n",
      "46          8.1         1418   \n",
      "47          8.0         1255   \n",
      "48          8.4         1240   \n",
      "49          7.4         1191   \n",
      "50          7.7         1135   \n",
      "51          8.5         1349   \n",
      "52          8.6         2758   \n",
      "\n",
      "                                                 desc  \n",
      "0   Richard is a computer programmer. He has to ch...  \n",
      "1   Richard hires Jared to design a business plan....  \n",
      "2   The guys find themselves in trouble with their...  \n",
      "3   Richard drunkenly promises to make Erlich a bo...  \n",
      "4   Now that Pied Piper is the official company na...  \n",
      "5   Richard comes across a problem in the code wri...  \n",
      "6   Richard has trouble getting Pied Piper ready i...  \n",
      "7   Pied Piper makes it to the next stage of Disru...  \n",
      "8   Monica deals with her new boss; Richard makes ...  \n",
      "9   Richard and the guys struggle to find a backer...  \n",
      "10  While considering Gavin's proposal, Richard is...  \n",
      "11  Richard butts heads with Erlich over a prospec...  \n",
      "12  Gavin's interference causes Pied Piper to stru...  \n",
      "13  Monica encourages the guys to pounce on an opp...  \n",
      "14  With the Pied Piper team fielding job offers, ...  \n",
      "15  Richard accidentally sparks a feud that leads ...  \n",
      "16  Erlich demands to be put on stand as Pied Pipe...  \n",
      "17  The verdict on Pied Piper's fate coincides wit...  \n",
      "18  After being unceremoniously fired, an angry Ri...  \n",
      "19  The new and improved Pied Piper impresses Dine...  \n",
      "20  Richard searches for a way around Jack; Gilfoy...  \n",
      "21  The Pied Piper guys struggle to phone it in; E...  \n",
      "22  Richard lets his ego get in the way at an inte...  \n",
      "23  Richard's new relationship is threatened by ne...  \n",
      "24  Richard decides to test the Pied Piper beta. E...  \n",
      "25  Erlich tries to be honest with Richard, who ha...  \n",
      "26  Shocking stats are revealed and prompt Richard...  \n",
      "27  Pied Piper's future is hazy, but Erlich's indu...  \n",
      "28  The guys struggle to find funding for Pied Pip...  \n",
      "29  Richard butts heads with Dinesh; Erlich makes ...  \n",
      "30  Dinesh gets back to the ground while Richard c...  \n",
      "31  The SeeFood demo is being prepared, and Big He...  \n",
      "32  Cracks in Richard's latest partnership become ...  \n",
      "33  The guys struggle for funding to launch the la...  \n",
      "34  Richard takes on a patent troll; Gilfoyle batt...  \n",
      "35  Richard ponders a deal with the tech world's l...  \n",
      "36  The Pied Piper guys try to pull off a stealth ...  \n",
      "37  Richard finds himself in a web of lies; Jared ...  \n",
      "38  The pressure to get things right stymies Richa...  \n",
      "39  Richard manages a number of conflicts in his e...  \n",
      "40  The COO of a world class company asks to move ...  \n",
      "41  Attempting to woo a gaming company to PiperNet...  \n",
      "42  Overshadowed by Jared in an on-camera intervie...  \n",
      "43  Richard decides to help when Laurie gets in a ...  \n",
      "44  As Pied Piper prepares to close on their Serie...  \n",
      "45  PiperNet launches, but an early success makes ...  \n",
      "46  Richard discovers his promise that Pied Piper ...  \n",
      "47  Richard meets a potential investor; Gilfoyle b...  \n",
      "48  The Pied Piper team races to close a major dea...  \n",
      "49  Richard's authority is threatened by his forme...  \n",
      "50  Richard fumes at Gavin's new ethical stance; D...  \n",
      "51  A major event puts PiperNet's capabilities to ...  \n",
      "52  Richard and the Pied Piper team look to pull o...  \n"
     ]
    }
   ],
   "source": [
    "episodes_df = pd.read_csv('./data-2/silicon_valley_episodes.csv')\n",
    "imdb_df = pd.read_csv('./data-2/silicon_valley_imdb.csv')\n",
    "\n",
    "merged2_df = episodes_df.merge(imdb_df, on=['season', 'episode_num'])\n",
    "\n",
    "print(merged2_df)"
   ]
  },
  {
   "cell_type": "markdown",
   "metadata": {},
   "source": [
    "2. Create a new DataFrame, called **df_best**, containing only the episodes with an **imdb_rating** at or above 9. Use the DataFrame created in the previous task as a starting point. (*2 points*)"
   ]
  },
  {
   "cell_type": "code",
   "execution_count": 81,
   "metadata": {},
   "outputs": [
    {
     "name": "stdout",
     "output_type": "stream",
     "text": [
      "    season  episode_num  episode_num_overall                        title_x  \\\n",
      "7        1            8                    8  Optimal Tip-To-Tip Efficiency   \n",
      "17       2           10                   18         Two Days of the Condor   \n",
      "45       5            8                   46              Fifty-One Percent   \n",
      "\n",
      "   directed_by written_by original_air_date_x  us_viewers  \\\n",
      "7   Mike Judge  Alec Berg            01.06.14     1740000   \n",
      "17   Alec Berg  Alec Berg            14.06.15     2110000   \n",
      "45   Alec Berg  Alec Berg            13.05.18      707000   \n",
      "\n",
      "                          title_y original_air_date_y  imdb_rating  \\\n",
      "7   Optimal Tip-To-Tip Efficiency         1 Jun. 2014          9.3   \n",
      "17         Two Days of the Condor        14 Jun. 2015          9.2   \n",
      "45              Fifty-One Percent         13 May 2018          9.1   \n",
      "\n",
      "    total_votes                                               desc  \n",
      "7          3627  Pied Piper makes it to the next stage of Disru...  \n",
      "17         2320  The verdict on Pied Piper's fate coincides wit...  \n",
      "45         2128  PiperNet launches, but an early success makes ...  \n"
     ]
    }
   ],
   "source": [
    "df_best = merged2_df.loc[merged2_df[\"imdb_rating\"] >= 9]\n",
    "\n",
    "print(df_best)"
   ]
  },
  {
   "cell_type": "markdown",
   "metadata": {},
   "source": [
    "3. Find mean number of **us_viewers** for episodes with an IMDB score greater than or equal to 9, and for episodes with an IMDB score lower than 9, and print the means. (*2 points*)"
   ]
  },
  {
   "cell_type": "code",
   "execution_count": 92,
   "metadata": {},
   "outputs": [
    {
     "name": "stdout",
     "output_type": "stream",
     "text": [
      "1234000.0\n",
      "1519000.0\n"
     ]
    }
   ],
   "source": [
    "lower_df = merged2_df.loc[merged2_df[\"imdb_rating\"] < 9]\n",
    "\n",
    "print(lower_df[\"us_viewers\"].mean())\n",
    "print(df_best[\"us_viewers\"].mean())"
   ]
  },
  {
   "cell_type": "markdown",
   "metadata": {},
   "source": [
    "<h3 style=\"text-align:left;\">Exercise 3 - DataFrames Ufuncs<span style=\"float: right\">4 points</span></h3>"
   ]
  },
  {
   "cell_type": "markdown",
   "metadata": {},
   "source": [
    "Create the two dataframe *df1* and *df2* with the following code:"
   ]
  },
  {
   "cell_type": "code",
   "execution_count": null,
   "metadata": {},
   "outputs": [],
   "source": [
    "import numpy as np\n",
    "import pandas as pd\n",
    "\n",
    "df1 = pd.DataFrame(\n",
    "    np.arange(1, 10).reshape(3, 3),\n",
    "    columns=[\"a\", \"b\", \"c\"],\n",
    "    index=[\"1\", \"2\", \"3\"]\n",
    ")\n",
    "\n",
    "df2 = pd.DataFrame(\n",
    "    np.arange(1, 10).reshape(3, 3) / 2,\n",
    "    columns=[\"a\", \"b\", \"d\"],\n",
    "    index=[\"1\", \"2\", \"4\"]\n",
    ")"
   ]
  },
  {
   "cell_type": "markdown",
   "metadata": {},
   "source": [
    "1. Add the two dataframes together, with the appropriate pandas method, and print the result. (*0.5 points*)"
   ]
  },
  {
   "cell_type": "code",
   "execution_count": 86,
   "metadata": {},
   "outputs": [
    {
     "data": {
      "text/plain": [
       "1519000.0"
      ]
     },
     "execution_count": 86,
     "metadata": {},
     "output_type": "execute_result"
    }
   ],
   "source": []
  },
  {
   "cell_type": "markdown",
   "metadata": {},
   "source": [
    "2. Add the underlying numpy objects of the two dataframes, and print the result. (*0.5 points*)"
   ]
  },
  {
   "cell_type": "code",
   "execution_count": null,
   "metadata": {},
   "outputs": [],
   "source": [
    "###\n",
    "# YOUR CODE HERE\n",
    "###"
   ]
  },
  {
   "cell_type": "markdown",
   "metadata": {},
   "source": [
    "3. Compare the two results that you obtained and comment if and **why** they are different. (*3 points*)"
   ]
  },
  {
   "cell_type": "code",
   "execution_count": null,
   "metadata": {},
   "outputs": [],
   "source": [
    "###\n",
    "# YOUR COMMENT HERE\n",
    "###"
   ]
  }
 ],
 "metadata": {
  "kernelspec": {
   "display_name": "Python 3 (ipykernel)",
   "language": "python",
   "name": "python3"
  },
  "language_info": {
   "codemirror_mode": {
    "name": "ipython",
    "version": 3
   },
   "file_extension": ".py",
   "mimetype": "text/x-python",
   "name": "python",
   "nbconvert_exporter": "python",
   "pygments_lexer": "ipython3",
   "version": "3.11.5"
  }
 },
 "nbformat": 4,
 "nbformat_minor": 2
}
