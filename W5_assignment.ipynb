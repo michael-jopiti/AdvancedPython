{
 "cells": [
  {
   "cell_type": "markdown",
   "metadata": {},
   "source": [
    "<h2><center>Week 5 - Assignment</center></h2>\n",
    "<h3><center>Programming for Data Science 2024</center></h3>"
   ]
  },
  {
   "cell_type": "markdown",
   "metadata": {},
   "source": [
    "Exercises for the topics covered in the fifth lecture.\n",
    "\n",
    "The exercise will be marked as passed if you get **at least 10/15** points.\n",
    "\n",
    "Exercises must be handed in via **ILIAS** (Homework assignments). Deliver your submission as a compressed file (zip) containing one .py or .ipynb file with all exercises. The name of both the .zip and the .py/.ipynb file **must** be *SurnameName* of the two members of the group. Example: Riccardo Cusinato + Athina Tzovara = *CusinatoRiccardo_TzovaraAthina.zip* .\n",
    "\n",
    "It's important to use comments to explain your code and show that you're able to take ownership of the exercises and discuss them.\n",
    "\n",
    "You are not expected to collaborate outside of the group on exercises and submitting other groups’ code as your own will result in 0 points.\n",
    "\n",
    "For questions contact: *riccardo.cusinato@unibe.ch* with the subject: *Programming for Data Science 2024*.\n",
    "\n",
    "**Deadline: 14:00, March 28, 2024.**"
   ]
  },
  {
   "cell_type": "markdown",
   "metadata": {},
   "source": [
    "<h3 style=\"text-align:left;\">Exercise 1 - Fitbit dataset<span style=\"float: right\">3 points</span></h3>"
   ]
  },
  {
   "cell_type": "markdown",
   "metadata": {},
   "source": [
    "We will work with three datasets - 'activity.csv', 'calories.csv', and 'last_participant.csv', which contains activity tracker data from https://www.kaggle.com/datasets/arashnic/fitbit\n",
    "\n",
    "If you are unable to do this exercise, you can load the dataset 'combined_solution.csv' for the next exercise. "
   ]
  },
  {
   "cell_type": "markdown",
   "metadata": {},
   "source": [
    "1. **Data preparation** (*1 point*)\n",
    "\n",
    "    - Load the two datasets 'activity.csv' and 'calories.csv'.\n",
    "    - Use pd.to_datetime to standardize the ActivityDate columns (https://pandas.pydata.org/docs/reference/api/pandas.to_datetime.html)"
   ]
  },
  {
   "cell_type": "code",
   "execution_count": 24,
   "metadata": {},
   "outputs": [],
   "source": [
    "import pandas as pd\n",
    "import numpy as np"
   ]
  },
  {
   "cell_type": "code",
   "execution_count": 25,
   "metadata": {},
   "outputs": [],
   "source": [
    "activity = pd.read_csv('./dataW5/activity.csv')\n",
    "calories = pd.read_csv('./dataW5/calories.csv')\n",
    "\n",
    "activity['ActivityDate'] = pd.to_datetime(activity['ActivityDate'], format = 'mixed')\n",
    "calories['ActivityDate'] = pd.to_datetime(calories['ActivityDate'], format = 'mixed')"
   ]
  },
  {
   "cell_type": "markdown",
   "metadata": {},
   "source": [
    "2. **Merging** (*1 point*)\n",
    "\n",
    "    - Consider what information is shared between the two datasets and merge them. Keep in mind that the order of rows is not the same in both datasets!\n",
    "    - Print out the mean \"TotalSteps\" of the merged DataFrame at this point."
   ]
  },
  {
   "cell_type": "code",
   "execution_count": 26,
   "metadata": {},
   "outputs": [
    {
     "name": "stdout",
     "output_type": "stream",
     "text": [
      "7786.438763376932\n"
     ]
    }
   ],
   "source": [
    "activity = activity.sort_values(by=['ID', 'ActivityDate']) # We sort values in order of ID and activity date columns\n",
    "calories = calories.sort_values(by=['ID', 'ActivityDate']) # Same for the other DF so we have rows in the same order\n",
    "\n",
    "merged_df = activity.merge(calories, on=['ID', 'ActivityDate'])\n",
    "\n",
    "print(merged_df['TotalSteps'].mean())"
   ]
  },
  {
   "cell_type": "markdown",
   "metadata": {},
   "source": [
    "3. **Concatenation** (*1 point*)\n",
    "\n",
    "    - The data of one additional participant exists in 'last_participant.csv'. Load this dataset and concatenate it with the merged dataset generated above\n",
    "    - Print out the mean \"TotalSteps\" again"
   ]
  },
  {
   "cell_type": "code",
   "execution_count": 27,
   "metadata": {},
   "outputs": [
    {
     "name": "stdout",
     "output_type": "stream",
     "text": [
      "7879.460599334073\n",
      "7879.460599334073\n"
     ]
    }
   ],
   "source": [
    "last_participant = pd.read_csv('./dataW5/last_participant.csv')\n",
    "\n",
    "merged_df2 = pd.concat([merged_df, last_participant])\n",
    "\n",
    "print(merged_df2['TotalSteps'].mean())\n",
    "\n",
    "solution = pd.read_csv('./dataW5/combined_solution.csv')\n",
    "print(solution['TotalSteps'].mean()) #Just to check if it's the result we expected."
   ]
  },
  {
   "cell_type": "markdown",
   "metadata": {},
   "source": [
    "<h3 style=\"text-align:left;\">Exercise 2 - Working with missing data<span style=\"float: right\">5 points</span></h3>"
   ]
  },
  {
   "cell_type": "markdown",
   "metadata": {},
   "source": [
    "In our dataset, some values are missing from the 'TotalSteps' and 'Calories' columns.\n",
    "\n",
    "We can try to approximate these missing values with the data we got. \n",
    "\n",
    "You can load the dataset 'combined_solution.csv' if you were unable to complete the previous exercise."
   ]
  },
  {
   "cell_type": "markdown",
   "metadata": {},
   "source": [
    "1. **Filling in missing values** (*3 points*)\n",
    "\n",
    "    - Calculate the mean steps per calory burnt and mean calories burnt per step, by averaging across all observations in the dataset and then computing the ratio. Print out both values.\n",
    "    - Fill in the null values in the columns 'Calories' and 'TotalSteps' where possible. To fill the values you have to use the factors *\"TotalSteps/Calories\"* and *\"Calories/TotalSteps\"* calculated in the previous point, using one of the two information to fill the other.\n",
    "    - Print out the mean of the columns 'TotalSteps' and 'Calories' before and after filling the missing values."
   ]
  },
  {
   "cell_type": "code",
   "execution_count": 30,
   "metadata": {},
   "outputs": [
    {
     "name": "stdout",
     "output_type": "stream",
     "text": [
      "3.4100446727062272\n",
      "0.29325129022617624\n",
      "2.6026527646188344\n",
      "0.3842233637903106\n"
     ]
    }
   ],
   "source": [
    "steps_per_calorie_NA = merged_df2['TotalSteps'].mean() / merged_df2['Calories'].mean() # with NA Values\n",
    "calories_per_step_NA = merged_df2['Calories'].mean() / merged_df2['TotalSteps'].mean() # with NA Values\n",
    "\n",
    "\n",
    "\n",
    "print(steps_per_calorie_NA) # average mean steps per calory burnt\n",
    "print(calories_per_step_NA)# average mean burnt calories per step\n",
    "\n",
    "\n",
    "filled_df = merged_df2.copy() # To be sure we can rerun the code without getting the same values twice -> it modifies original DF otherwise.\n",
    "filled_df['TotalSteps'] = filled_df['TotalSteps'].fillna(filled_df['Calories'] * steps_per_calorie_NA) \n",
    "filled_df['Calories'] = filled_df['Calories'].fillna(filled_df['TotalSteps'] / calories_per_step_NA)\n",
    "\n",
    "steps_per_calorie = filled_df['TotalSteps'].mean() / filled_df['Calories'].mean() # without NA Values\n",
    "calories_per_step = filled_df['Calories'].mean() / filled_df['TotalSteps'].mean() # without NA Values\n",
    "\n",
    "print(steps_per_calorie)\n",
    "print(calories_per_step)"
   ]
  },
  {
   "cell_type": "markdown",
   "metadata": {},
   "source": [
    "2. **Dropping missing values** (*2 points*)\n",
    "\n",
    "    - Print how many null values there are in the 'Calories' and 'TotalSteps' columns, respectively.\n",
    "    - Drop the rows where **both** 'Calories' and 'TotalSteps' are missing.\n",
    "    - Print number of rows in the final dataset."
   ]
  },
  {
   "cell_type": "code",
   "execution_count": 38,
   "metadata": {},
   "outputs": [
    {
     "name": "stdout",
     "output_type": "stream",
     "text": [
      "30\n",
      "55\n",
      "Number of rows of the final DF: 956\n"
     ]
    }
   ],
   "source": [
    "print(np.sum(merged_df2['Calories'].isnull()))\n",
    "print(np.sum(merged_df2['TotalSteps'].isnull()))\n",
    "\n",
    "merged_df2.dropna(axis = 'rows', subset = ['Calories', 'TotalSteps'], how = 'all', inplace = True)\n",
    "\n",
    "print(\"Number of rows of the final DF:\", merged_df2.shape[0])"
   ]
  },
  {
   "cell_type": "markdown",
   "metadata": {},
   "source": [
    "<h3 style=\"text-align:left;\">Exercise 3 - Multi-index<span style=\"float: right\">7 points</span></h3>"
   ]
  },
  {
   "cell_type": "markdown",
   "metadata": {},
   "source": [
    "In this exercise you will create and manipulate a multi-index dataframe. First, let's create the dataframe for the exercise:"
   ]
  },
  {
   "cell_type": "code",
   "execution_count": null,
   "metadata": {},
   "outputs": [],
   "source": [
    "import pandas as pd\n",
    "\n",
    "df = pd.DataFrame(\n",
    "    {\n",
    "        \"idx\": [0, 1, 2],\n",
    "        \"A_X\": [1.1, 1.1, 1.1],\n",
    "        \"A_Y\": [1.2, 1.2, 1.2],\n",
    "        \"B_X\": [1.11, 1.11, 1.11],\n",
    "        \"B_Y\": [1.22, 1.22, 1.22],\n",
    "    }\n",
    ")"
   ]
  },
  {
   "cell_type": "markdown",
   "metadata": {},
   "source": [
    "1. Set the column *idx* as the index of the dataframe. (*1 point*)"
   ]
  },
  {
   "cell_type": "code",
   "execution_count": null,
   "metadata": {},
   "outputs": [],
   "source": [
    "###\n",
    "# YOUR CODE HERE\n",
    "###"
   ]
  },
  {
   "cell_type": "markdown",
   "metadata": {},
   "source": [
    "2. Create a multi-column stucture. (*3 points*)\n",
    "    - Set the columns *A, B* on the first level and *X, Y* on the second level, taken from the combinations in the original dataframe. \n",
    "    - Set the names of the two new levels as \"L1\" and \"L2\", respectively. \n",
    "    - Print the resulting dataframe."
   ]
  },
  {
   "cell_type": "code",
   "execution_count": null,
   "metadata": {},
   "outputs": [],
   "source": [
    "###\n",
    "# YOUR CODE HERE\n",
    "###"
   ]
  },
  {
   "cell_type": "markdown",
   "metadata": {},
   "source": [
    "3. From the previous dataframe, re-create a dataframe with a single column level. (*3 points*)\n",
    "    - Create a new column from the first level (L1) of the multi-column. At this point your columns should be ['L1', 'X', 'Y'], with name 'L2'. **NB** The DataFrame method *reset_index* is useful for this part.\n",
    "    - Rename the newly-created column as \"letter\" and the name of the column level as \"L\". Use the appropiate pandas methods for this.\n",
    "    - Print the resulting dataframe."
   ]
  },
  {
   "cell_type": "code",
   "execution_count": null,
   "metadata": {},
   "outputs": [],
   "source": [
    "###\n",
    "# YOUR CODE HERE\n",
    "###"
   ]
  }
 ],
 "metadata": {
  "kernelspec": {
   "display_name": "Python 3 (ipykernel)",
   "language": "python",
   "name": "python3"
  },
  "language_info": {
   "codemirror_mode": {
    "name": "ipython",
    "version": 3
   },
   "file_extension": ".py",
   "mimetype": "text/x-python",
   "name": "python",
   "nbconvert_exporter": "python",
   "pygments_lexer": "ipython3",
   "version": "3.11.5"
  }
 },
 "nbformat": 4,
 "nbformat_minor": 2
}
