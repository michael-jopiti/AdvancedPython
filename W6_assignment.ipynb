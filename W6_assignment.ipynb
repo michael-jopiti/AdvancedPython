{
 "cells": [
  {
   "cell_type": "markdown",
   "metadata": {},
   "source": [
    "<h2><center>Week 6 - Assignment</center></h2>\n",
    "<h3><center>Programming for Data Science 2024</center></h3>"
   ]
  },
  {
   "cell_type": "markdown",
   "metadata": {},
   "source": [
    "Exercises for the topics covered in the sixth lecture.\n",
    "\n",
    "The exercise will be marked as passed if you get **at least 10/15** points.\n",
    "\n",
    "Exercises must be handed in via **ILIAS** (Homework assignments). Deliver your submission as a compressed file (zip) containing one .py or .ipynb file with all exercises. The name of both the .zip and the .py/.ipynb file **must** be *SurnameName* of the two members of the group. Example: Riccardo Cusinato + Athina Tzovara = *CusinatoRiccardo_TzovaraAthina.zip* .\n",
    "\n",
    "It's important to use comments to explain your code and show that you're able to take ownership of the exercises and discuss them.\n",
    "\n",
    "You are not expected to collaborate outside of the group on exercises and submitting other groups’ code as your own will result in 0 points.\n",
    "\n",
    "For questions contact: *riccardo.cusinato@unibe.ch* with the subject: *Programming for Data Science 2024*.\n",
    "\n",
    "**Deadline: 14:00, April 11, 2024.**"
   ]
  },
  {
   "cell_type": "markdown",
   "metadata": {},
   "source": [
    "<h3 style=\"text-align:left;\">Exercise 1 - World Happiness Report<span style=\"float: right\">8 points</span></h3>"
   ]
  },
  {
   "cell_type": "markdown",
   "metadata": {},
   "source": [
    "You will find the CSV files *report.csv* and *region.csv* in the data folder for this assignment (Credit: https://www.kaggle.com/ajaypalsinghlo/world-happiness-report-2021).\n",
    "\n",
    "1. Import the two *csv* files and save them in two variables called *df_report* and *df_region*. Create a new column \"region\" in the *df_report* dataframe by populating it with the correct region in the *df_region* dataframe. If a country does not exist in *df_region*, label it as \"unknown\" in *df_report*. Print *df_report* at the end. (*2 points*)\n",
    "\n",
    "**NB** If you are unable to do the exercise, you can use the file *report_region.csv* in the data folder for the next points."
   ]
  },
  {
   "cell_type": "code",
   "execution_count": 1,
   "metadata": {},
   "outputs": [],
   "source": [
    "import pandas as pd\n",
    "import numpy as np"
   ]
  },
  {
   "cell_type": "code",
   "execution_count": null,
   "metadata": {},
   "outputs": [],
   "source": [
    "###\n",
    "# YOUR CODE HERE\n",
    "###"
   ]
  },
  {
   "cell_type": "markdown",
   "metadata": {},
   "source": [
    "2. Calculate and print the median \"Healthy life expectancy at birth\" per region in the year 2019. (*2 point*)"
   ]
  },
  {
   "cell_type": "code",
   "execution_count": null,
   "metadata": {},
   "outputs": [],
   "source": [
    "###\n",
    "# YOUR CODE HERE\n",
    "###"
   ]
  },
  {
   "cell_type": "markdown",
   "metadata": {},
   "source": [
    "3. Create a Pivot table with the median \"Healthy life expectancy at birth\" per region (index) per year (column) and print it. (*1 point*)"
   ]
  },
  {
   "cell_type": "code",
   "execution_count": null,
   "metadata": {},
   "outputs": [],
   "source": [
    "###\n",
    "# YOUR CODE HERE\n",
    "###"
   ]
  },
  {
   "cell_type": "markdown",
   "metadata": {},
   "source": [
    "4. Create a Pivot table (same structure as before) with the maximum \"Log GDP per capita\" per region per year and print it. In the resulting table, also add the overall values across years for each region, with the appropriate pandas method. (*1 point*)"
   ]
  },
  {
   "cell_type": "code",
   "execution_count": null,
   "metadata": {},
   "outputs": [],
   "source": [
    "###\n",
    "# YOUR CODE HERE\n",
    "###"
   ]
  },
  {
   "cell_type": "markdown",
   "metadata": {},
   "source": [
    "5. Find the length of the shortest country name(s) in the dataset and print it, together with the actual countries (print just the unique occurrences!). Then, create a new column ”Short name”, where each country name is cut down to the length of the shortest country name. For instance, if the country with the shortest name is Germany (7 letters, and not true, just an example), ”Switzerland” would become ”Switzer”. (*2 points*)"
   ]
  },
  {
   "cell_type": "code",
   "execution_count": null,
   "metadata": {},
   "outputs": [],
   "source": [
    "###\n",
    "# YOUR CODE HERE\n",
    "###"
   ]
  },
  {
   "cell_type": "markdown",
   "metadata": {},
   "source": [
    "<h3 style=\"text-align:left;\">Exercise 2 - Weather data<span style=\"float: right\">7 points</span></h3>"
   ]
  },
  {
   "cell_type": "markdown",
   "metadata": {},
   "source": [
    "In this exercise, you'll use the *weather.csv* dataset that contains UK weather data. The dataset has columns year and month describing which year and month a specific recording belongs to. (Credit: https://www.kaggle.com/josephw20/uk-met-office-weather-data)\n",
    "\n",
    "1. Import the dataset into a dataframe called *df_weather* and create a new column *datetime*, containing a datetime object for each row describing the year and month of the recording. The day can be set as the 1st of the month. Finally, print the dataframe. (*2 points*)\n",
    "\n",
    "**NB**  If you are unable to do this exercise, you can use the file *weather_datetime.csv* in the data folder for the next points."
   ]
  },
  {
   "cell_type": "code",
   "execution_count": 26,
   "metadata": {},
   "outputs": [
    {
     "name": "stdout",
     "output_type": "stream",
     "text": [
      "20\n",
      "20\n"
     ]
    }
   ],
   "source": [
    "print(np.sum(df_weather['month'].isnull()))\n",
    "print(np.sum(df_weather['year'].isnull()))\n",
    "\n",
    "# We have 20 missing data in each of these columns"
   ]
  },
  {
   "cell_type": "code",
   "execution_count": 135,
   "metadata": {},
   "outputs": [
    {
     "name": "stdout",
     "output_type": "stream",
     "text": [
      "         year  month  tmax  tmin   af   rain    sun    station  day   datetime\n",
      "0      1941.0    1.0   NaN   NaN  NaN   74.7    NaN  aberporth    1 1941-01-01\n",
      "1      1941.0    2.0   NaN   NaN  NaN   69.1    NaN  aberporth    1 1941-02-01\n",
      "2      1941.0    3.0   NaN   NaN  NaN   76.2    NaN  aberporth    1 1941-03-01\n",
      "3      1941.0    4.0   NaN   NaN  NaN   33.7    NaN  aberporth    1 1941-04-01\n",
      "4      1941.0    5.0   NaN   NaN  NaN   51.3    NaN  aberporth    1 1941-05-01\n",
      "...       ...    ...   ...   ...  ...    ...    ...        ...  ...        ...\n",
      "37044  2020.0    2.0  10.8   4.5  2.0  117.4   63.1  yeovilton    1 2020-02-01\n",
      "37045  2020.0    3.0  11.5   3.0  6.0   43.4  159.2  yeovilton    1 2020-03-01\n",
      "37046  2020.0    4.0  17.5   5.3  3.0   39.8  235.0  yeovilton    1 2020-04-01\n",
      "37047  2020.0    5.0  19.7   6.8  2.0    3.6  305.6  yeovilton    1 2020-05-01\n",
      "37048  2020.0    6.0  20.5  11.0  0.0  103.0  187.6  yeovilton    1 2020-06-01\n",
      "\n",
      "[37049 rows x 10 columns]\n"
     ]
    }
   ],
   "source": [
    "df_weather = pd.read_csv('./dataW6/weather.csv')\n",
    "\n",
    "# Convert \"month\" and \"year\" columns to nullable integers\n",
    "df_weather['month'] = pd.to_numeric(df_weather['month'], errors='coerce')\n",
    "df_weather['year'] = pd.to_numeric(df_weather['year'], errors='coerce')\n",
    "\n",
    "# Set the \"day\" column to 1 for the first day of each month -> it creates a new column in df_weather\n",
    "df_weather['day'] = 1\n",
    "\n",
    "# Create the datetime column with the right format, keeping NA values\n",
    "df_weather['datetime'] = pd.to_datetime(df_weather[['year', 'month', 'day']], errors='coerce')\n",
    "\n",
    "\n",
    "print(df_weather)"
   ]
  },
  {
   "cell_type": "code",
   "execution_count": 70,
   "metadata": {},
   "outputs": [
    {
     "name": "stdout",
     "output_type": "stream",
     "text": [
      "       Unnamed: 0  year  month  tmax  tmin  af  rain  sun       station  day  \\\n",
      "3540         3540   NaN    NaN   NaN   NaN NaN   NaN  NaN  ballypatrick    1   \n",
      "5023         5023   NaN    NaN   NaN   NaN NaN   NaN  NaN       braemar    1   \n",
      "8908         8908   NaN    NaN   NaN   NaN NaN   NaN  NaN    cwmystwyth    1   \n",
      "9366         9366   NaN    NaN   NaN   NaN NaN   NaN  NaN  dunstaffnage    1   \n",
      "16706       16706   NaN    NaN   NaN   NaN NaN   NaN  NaN     lowestoft    1   \n",
      "17820       17820   NaN    NaN   NaN   NaN NaN   NaN  NaN     lowestoft    1   \n",
      "18745       18745   NaN    NaN   NaN   NaN NaN   NaN  NaN       manston    1   \n",
      "18923       18923   NaN    NaN   NaN   NaN NaN   NaN  NaN         nairn    1   \n",
      "19734       19734   NaN    NaN   NaN   NaN NaN   NaN  NaN         nairn    1   \n",
      "24191       24191   NaN    NaN   NaN   NaN NaN   NaN  NaN       ringway    1   \n",
      "27811       27811   NaN    NaN   NaN   NaN NaN   NaN  NaN   southampton    1   \n",
      "29555       29555   NaN    NaN   NaN   NaN NaN   NaN  NaN   southampton    1   \n",
      "34387       34387   NaN    NaN   NaN   NaN NaN   NaN  NaN        whitby    1   \n",
      "34633       34633   NaN    NaN   NaN   NaN NaN   NaN  NaN        whitby    1   \n",
      "34795       34795   NaN    NaN   NaN   NaN NaN   NaN  NaN        whitby    1   \n",
      "34797       34797   NaN    NaN   NaN   NaN NaN   NaN  NaN        whitby    1   \n",
      "34799       34799   NaN    NaN   NaN   NaN NaN   NaN  NaN        whitby    1   \n",
      "34801       34801   NaN    NaN   NaN   NaN NaN   NaN  NaN        whitby    1   \n",
      "34803       34803   NaN    NaN   NaN   NaN NaN   NaN  NaN        whitby    1   \n",
      "34855       34855   NaN    NaN   NaN   NaN NaN   NaN  NaN        whitby    1   \n",
      "\n",
      "      datetime  \n",
      "3540       NaN  \n",
      "5023       NaN  \n",
      "8908       NaN  \n",
      "9366       NaN  \n",
      "16706      NaN  \n",
      "17820      NaN  \n",
      "18745      NaN  \n",
      "18923      NaN  \n",
      "19734      NaN  \n",
      "24191      NaN  \n",
      "27811      NaN  \n",
      "29555      NaN  \n",
      "34387      NaN  \n",
      "34633      NaN  \n",
      "34795      NaN  \n",
      "34797      NaN  \n",
      "34799      NaN  \n",
      "34801      NaN  \n",
      "34803      NaN  \n",
      "34855      NaN  \n",
      "       Unnamed: 0    year  month  tmax  tmin   af   rain    sun    station  \\\n",
      "0               0  1941.0    1.0   NaN   NaN  NaN   74.7    NaN  aberporth   \n",
      "1               1  1941.0    2.0   NaN   NaN  NaN   69.1    NaN  aberporth   \n",
      "2               2  1941.0    3.0   NaN   NaN  NaN   76.2    NaN  aberporth   \n",
      "3               3  1941.0    4.0   NaN   NaN  NaN   33.7    NaN  aberporth   \n",
      "4               4  1941.0    5.0   NaN   NaN  NaN   51.3    NaN  aberporth   \n",
      "...           ...     ...    ...   ...   ...  ...    ...    ...        ...   \n",
      "37044       37044  2020.0    2.0  10.8   4.5  2.0  117.4   63.1  yeovilton   \n",
      "37045       37045  2020.0    3.0  11.5   3.0  6.0   43.4  159.2  yeovilton   \n",
      "37046       37046  2020.0    4.0  17.5   5.3  3.0   39.8  235.0  yeovilton   \n",
      "37047       37047  2020.0    5.0  19.7   6.8  2.0    3.6  305.6  yeovilton   \n",
      "37048       37048  2020.0    6.0  20.5  11.0  0.0  103.0  187.6  yeovilton   \n",
      "\n",
      "       day    datetime  \n",
      "0        1  1941-01-01  \n",
      "1        1  1941-02-01  \n",
      "2        1  1941-03-01  \n",
      "3        1  1941-04-01  \n",
      "4        1  1941-05-01  \n",
      "...    ...         ...  \n",
      "37044    1  2020-02-01  \n",
      "37045    1  2020-03-01  \n",
      "37046    1  2020-04-01  \n",
      "37047    1  2020-05-01  \n",
      "37048    1  2020-06-01  \n",
      "\n",
      "[37049 rows x 11 columns]\n"
     ]
    }
   ],
   "source": [
    "# Checking the right output\n",
    "df_weather_sol = pd.read_csv('./dataW6/weather_datetime.csv')\n",
    "print(df_weather_sol[df_weather_sol['month'].isna()])\n",
    "print(df_weather_sol)"
   ]
  },
  {
   "cell_type": "markdown",
   "metadata": {},
   "source": [
    "2. Write a function *mean_rainfall* that takes in input the dataframe, the name of a weather station, the upper and lower bounds of a time interval and computes the mean *rain* for the time period between (and including) the upper and lower bound. Make the station name not case-sensitive. Use the inputs as in the example below (i.e. upper and lower bounds as strings) (*3 points*)\n",
    "\n",
    "```python \n",
    "mean_rainfall(df_weather, \"Manston\", \"january 2019\", \"march 2020\")  # returns 49.52\n",
    "mean_rainfall(df_weather, \"manston\", \"january 2019\", \"march 2020\")  # also returns 49.52\n",
    "```"
   ]
  },
  {
   "cell_type": "code",
   "execution_count": 71,
   "metadata": {},
   "outputs": [],
   "source": [
    "from datetime import datetime"
   ]
  },
  {
   "cell_type": "code",
   "execution_count": 137,
   "metadata": {},
   "outputs": [
    {
     "name": "stdout",
     "output_type": "stream",
     "text": [
      "49.52\n",
      "49.52\n"
     ]
    }
   ],
   "source": [
    "def mean_rainfall(df, station, lower_bound, upper_bound):\n",
    "    \n",
    "    # Make the station name not case-sensitive\n",
    "    station = station.lower()\n",
    "    \n",
    "    #convert strings to date\n",
    "    lower_bound = datetime.strptime(lower_bound, '%B %Y').date()\n",
    "    upper_bound = datetime.strptime(upper_bound, '%B %Y').date()\n",
    "    #to datetime64 format so we can use logical comparisons with dates of the DF\n",
    "    lower_bound = np.datetime64(lower_bound)\n",
    "    upper_bound = np.datetime64(upper_bound)\n",
    "    \n",
    "    #create a new df with station and time period we are interested in \n",
    "    filtered_df = df[(df['station'] == station) & (df['datetime'] >= lower_bound) & (df['datetime'] <= upper_bound)]\n",
    "    \n",
    "    return filtered_df['rain'].mean()\n",
    "\n",
    "\n",
    "print(mean_rainfall(df_weather, \"Manston\", \"january 2019\", \"march 2020\"))\n",
    "print(mean_rainfall(df_weather, \"manston\", \"january 2019\", \"march 2020\"))"
   ]
  },
  {
   "cell_type": "markdown",
   "metadata": {},
   "source": [
    "3. Expand the function *mean_rainfall* of the previous point, such that it also returns the number of days since the maximum rainfall in the time-period selected and the current date (use 28th of March as reference) (*2 points*)\n",
    "\n",
    "```python \n",
    "mean_rainfall(df_weather, \"Manston\", \"january 2019\", \"march 2020\")  # returns 49.52, 1640\n",
    "```"
   ]
  },
  {
   "cell_type": "code",
   "execution_count": 138,
   "metadata": {},
   "outputs": [
    {
     "name": "stdout",
     "output_type": "stream",
     "text": [
      "(49.52, 1640)\n",
      "(49.52, 1640)\n"
     ]
    }
   ],
   "source": [
    "def mean_rainfall(df, station, lower_bound, upper_bound):\n",
    "    station = station.lower()\n",
    "    \n",
    "    lower_bound = datetime.strptime(lower_bound, '%B %Y').date()\n",
    "    upper_bound = datetime.strptime(upper_bound, '%B %Y').date()\n",
    "    lower_bound = np.datetime64(lower_bound)\n",
    "    upper_bound = np.datetime64(upper_bound)\n",
    "    # date: 28th of March\n",
    "    current_date = datetime.strptime(\"2024-03-28\", '%Y-%m-%d').date()\n",
    "    \n",
    "    filtered_df = df[(df['station'] == station) & (df['datetime'] >= lower_bound) & (df['datetime'] <= upper_bound)]\n",
    "    \n",
    "    #date where we have maximum rainfall\n",
    "    max_rainfall_row = filtered_df[filtered_df['rain'] == filtered_df['rain'].max()]\n",
    "    date_max_rainfall = max_rainfall_row['datetime'].iloc[0].date()\n",
    "    \n",
    "    #days counter\n",
    "    time_period = current_date - date_max_rainfall\n",
    "    \n",
    "    \n",
    "    return filtered_df['rain'].mean(), time_period.days\n",
    "\n",
    "\n",
    "print(mean_rainfall(df_weather, \"Manston\", \"january 2019\", \"march 2020\"))\n",
    "print(mean_rainfall(df_weather, \"manston\", \"january 2019\", \"march 2020\"))"
   ]
  }
 ],
 "metadata": {
  "kernelspec": {
   "display_name": "Python 3 (ipykernel)",
   "language": "python",
   "name": "python3"
  },
  "language_info": {
   "codemirror_mode": {
    "name": "ipython",
    "version": 3
   },
   "file_extension": ".py",
   "mimetype": "text/x-python",
   "name": "python",
   "nbconvert_exporter": "python",
   "pygments_lexer": "ipython3",
   "version": "3.11.5"
  }
 },
 "nbformat": 4,
 "nbformat_minor": 2
}
